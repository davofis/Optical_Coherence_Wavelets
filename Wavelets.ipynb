{
 "cells": [
  {
   "cell_type": "markdown",
   "metadata": {},
   "source": [
    "\n",
    " <img style=\"width:35%;float:right;padding-left:50px\" src=images/python-logo-generic.svg> </h4>\n",
    " <div style=\"clear:both\"></div>\n",
    " <img style=\"width:40%;float:right;padding-left:50px\" src=images/david.png> </h4>\n",
    " \n",
    "\n",
    "# OPTICAL COHERENCE WAVELETS\n",
    "<p style=\"text-align: justify;\">This Jupyther notebook was designed to illustrate the complete python implementation of the optical coherence wavelets modeling of optical fields under the paraxial and nonparaxial approximations. Some of the central ideas involve intensity distributions, description of the degree of spatial coherence, and marginal power spectrum. You will find details cell by cell in python code will while the theoretical fundamentals are developed in a modular way. Cell execution is done after \"shift + enter\". </p>\n",
    "\n",
    "<p style=\"text-align: justify;\">\n",
    "'SPATIAL COHERENCE WAVELETS' is a project under construction with a strong focus on unidimensional diffraction processes under the nonparaxial modeling of optical fields [1], all simulations are based on the theory of spatial coherence wavelets which purpose is the. Further developments are welcome and should point towards the more general 2D case. Enjoy your modeling of optical fields in any state of spatial coherence.  </p>\n",
    "\n",
    " \n",
    "## REFERENCES: \n",
    "<p style=\"text-align: justify;\">\n",
    " [1] Castañeda R, Sucerquia J. Non-approximated numerical modeling of propagation of light in any state of spatial coherence </p>\n",
    " \n",
    "<p style=\"text-align: justify;\"> \n",
    " [2] R. Castañeda,* D. Vargas, E. Franco. Discreteness of the set of radiant point sources: a physical feature of the second-order wave -fronts </p>  \n",
    " \n",
    "<p style=\"text-align: justify;\"> \n",
    " [3] R. Castañeda,* D. Vargas, E. Franco. Spatial coherence of light and a fundamental discontinuity of classical second-order wave fronts </p>\n",
    "  \n"
   ]
  },
  {
   "cell_type": "code",
   "execution_count": null,
   "metadata": {
    "collapsed": true
   },
   "outputs": [],
   "source": [
    "#*********************************************************************\n",
    "# AUTHOR: David Alejandro Vargas O                                   *\n",
    "#         david.vargas@geophysik.uni-muenchen.de                     *\n",
    "# AFFILIATION: LMU Ludwig Maximilian University of Munich            *\n",
    "# DATE: 01.04.2015                                                   *\n",
    "#*********************************************************************\n",
    "#     COPYRIGHT                                                      *\n",
    "# Copyright (C) 2015  David Alejandro Vargas Otalora                 *\n",
    "#                                                                    *\n",
    "# This program is free software: you can redistribute it and/or modif*\n",
    "# y it under the terms of the GNU General Public License as published*\n",
    "# by the Free Software Foundation, either version 3 of the License,  *\n",
    "# or(at your option) any later version.                              *\n",
    "#                                                                    *\n",
    "# This program is distributed in the hope that it will be useful,    *\n",
    "# but WITHOUT ANY WARRANTY; without even the implied warranty of     *\n",
    "# MERCHANTABILITY or FITNESS FOR A PARTICULAR PURPOSE.  See the      *\n",
    "# GNU General Public License for more details.                       *\n",
    "#                                                                    *\n",
    "# You should have received a copy of the GNU General Public License  *\n",
    "# along with this program.  If not, see http://www.gnu.org/licenses/ *\n",
    "#*********************************************************************"
   ]
  },
  {
   "cell_type": "markdown",
   "metadata": {},
   "source": [
    "## outline\n",
    "\n",
    "#### 0. Import Modules\n",
    "\n",
    "#### 1. Intensity Distributions.\n",
    "    1.1. Single slide distribution\n",
    "    1.2. Double slide distribution \n",
    "    1.3. Single pinhole distribution \n",
    "    1.4. Double pinhole distribution\n",
    "    1.5. Sine distribution \n",
    "    1.6. Ronchi slide distribution \n",
    "    1.7. DC Component distribution\n",
    " \n",
    "#### 2. spatial coherence degree Distributions\n",
    "    2.1. Gaussian distribution    \n",
    "    2.2. Lorentzian distribution\n",
    "    \n",
    "#### 3. Marginal Power Spectrum    \n",
    "    3.1. Setup of parameter    \n",
    "    3.2. paraxial Marginal Power Spectrum    \n",
    "    3.3. nonparaxial Marginal Power Spectrum    \n",
    "    3.4. Graphics\n",
    "    \n",
    "#### 4. 2D Modelling of Marginal Power Spectrum"
   ]
  },
  {
   "cell_type": "markdown",
   "metadata": {},
   "source": [
    "## 0. Import Modules "
   ]
  },
  {
   "cell_type": "code",
   "execution_count": null,
   "metadata": {
    "collapsed": false
   },
   "outputs": [],
   "source": [
    "import Intensity\n",
    "import CoherenceDegree\n",
    "import MarPowSpectrum\n",
    "import numpy as np\n",
    "import matplotlib.pyplot as plt\n",
    "import matplotlib.animation as animation\n",
    "\n",
    "# Show the plots in the Notebook.\n",
    "plt.switch_backend(\"nbagg\")"
   ]
  },
  {
   "cell_type": "markdown",
   "metadata": {},
   "source": [
    "## 1. Intensity Distributions.\n",
    "\n",
    "Intensity.py is a class which methods will be used as functions to \n",
    "represent the different intensity distributions at the entrance plane.\n",
    "\n",
    "### METHODS:   \n",
    "    slide             : Single slide distribution  \n",
    "    double_slide      : Double slide distribution\n",
    "    pinhole           : Pin hole distrubution\n",
    "    double_pinhole    : Double pinhole distribution\n",
    "    sine              : Sine distribution \n",
    "    ronchi_slide      : Ronchi slide distribution\n",
    "    straight_line     : DC level distribution with slope variation\n",
    " \n",
    "The whole range of intensity distributions considered here, will be exposed in the following section. The python implementation can be apreciated for each case."
   ]
  },
  {
   "cell_type": "markdown",
   "metadata": {},
   "source": [
    "### 1.1. Single slide distribution\n"
   ]
  },
  {
   "cell_type": "code",
   "execution_count": null,
   "metadata": {
    "collapsed": false
   },
   "outputs": [],
   "source": [
    "# SLIDE GRAPHICS\n",
    "so = 100            # Maximum intensity.\n",
    "wide = 100          # Slide wide.\n",
    "xia = np.linspace(-wide, wide, 500)\n",
    "slide = lambda x: Intensity.slide(x, so, wide)\n",
    "\n",
    "plt.plot(xia, slide(xia))\n",
    "plt.xlabel(r'$\\xi_A \\ [\\mu m]$')\n",
    "plt.ylabel(r'$Intensity \\ I(\\xi_A)$')\n",
    "plt.title(r'$ SLIDE $')\n",
    "plt.axis([-wide, wide, -0.2*so, 1.3*so])\n",
    "plt.grid(True)\n",
    "plt.show()"
   ]
  },
  {
   "cell_type": "markdown",
   "metadata": {},
   "source": [
    "###     1.2. Double slide distribution"
   ]
  },
  {
   "cell_type": "code",
   "execution_count": null,
   "metadata": {
    "collapsed": false
   },
   "outputs": [],
   "source": [
    "# DOUBLE SLIDE GRAPHICS\n",
    "so_1 = 100          # Maximum intensity left slide.\n",
    "so_2 = 100          # Maximum intensity right slide.\n",
    "wide_1 = 40         # Left slide wide.\n",
    "wide_2 = 40         # Right slide wide.\n",
    "slide_space = 60    # Space between slides.\n",
    "x = wide_1 + wide_2 + slide_space\n",
    "xia = np.linspace(-x, x, 500)\n",
    "double_slide = lambda x: Intensity.double_slide(x, so_1, so_2, wide_1, wide_2, slide_space)\n",
    "\n",
    "plt.plot(xia, double_slide(xia))\n",
    "plt.xlabel(r'$\\xi_A \\ [\\mu m]$')\n",
    "plt.ylabel(r'$Intensity \\ I(\\xi_A)$')\n",
    "plt.title(r'$ DOUBLE \\ SLIDE $')\n",
    "plt.axis([-x, x, -0.2*so_1, 1.3*so_1])\n",
    "plt.grid(True)\n",
    "plt.show()"
   ]
  },
  {
   "cell_type": "markdown",
   "metadata": {},
   "source": [
    "###     1.3. Single pinhole distribution"
   ]
  },
  {
   "cell_type": "code",
   "execution_count": null,
   "metadata": {
    "collapsed": false
   },
   "outputs": [],
   "source": [
    "# PINHOLE GRAPHICS\n",
    "so = 100            # Maximum intensity.\n",
    "wide = 200          # Slide wide.\n",
    "xia = np.linspace(-wide, wide, 500)\n",
    "pinhole = lambda x: Intensity.pinhole(x, so, wide)\n",
    "\n",
    "plt.plot(xia, pinhole(xia))\n",
    "plt.xlabel(r'$\\xi_A \\ [\\mu m]$')\n",
    "plt.ylabel(r'$Intensity \\ I(\\xi_A)$')\n",
    "plt.title(r'$ PINHOLE $')\n",
    "plt.axis([-wide, wide, -0.2*so, 1.3*so])\n",
    "plt.grid(True)\n",
    "plt.show()"
   ]
  },
  {
   "cell_type": "markdown",
   "metadata": {},
   "source": [
    "###  1.4. Double pinhole distribution"
   ]
  },
  {
   "cell_type": "code",
   "execution_count": null,
   "metadata": {
    "collapsed": false
   },
   "outputs": [],
   "source": [
    "# DOUBLE PINHOLE GRAPHICS\n",
    "so_1 = 100          # Maximum intensity left slide.\n",
    "so_2 = 100          # Maximum intensity right slide.\n",
    "wide_1 = 40         # Left slide wide.\n",
    "wide_2 = 40         # Right slide wide.\n",
    "slide_space = 100    # Space between slides.\n",
    "x = wide_1 + wide_2 + slide_space\n",
    "xia = np.linspace(-x, x, 500)\n",
    "double_pinhole = lambda x: Intensity.double_pinhole(x, so_1, so_2, wide_1, wide_2, slide_space)\n",
    "\n",
    "plt.plot(xia, double_pinhole(xia))\n",
    "plt.xlabel(r'$\\xi_A \\ [\\mu m]$')\n",
    "plt.ylabel(r'$Intensity \\ I(\\xi_A)$')\n",
    "plt.title(r'$ DOUBLE PINHOLE $')\n",
    "plt.axis([-x, x, -0.2*so, 1.3*so_1])\n",
    "plt.grid(True)\n",
    "plt.show()"
   ]
  },
  {
   "cell_type": "markdown",
   "metadata": {},
   "source": [
    "###     1.5. Sine distribution"
   ]
  },
  {
   "cell_type": "code",
   "execution_count": null,
   "metadata": {
    "collapsed": false
   },
   "outputs": [],
   "source": [
    "# SINE GRAPHICS\n",
    "so = 200            # Maximum intensity.\n",
    "wide = 200          # Slide wide.\n",
    "a = 100             # Amplitude.\n",
    "w = 4               # Spatial frequency.\n",
    "xia = np.linspace(-0.5*wide, 0.5*wide, 500)\n",
    "sine = lambda x: Intensity.sine(x, so, wide, a, w) \n",
    "\n",
    "plt.plot(xia, sine(xia))\n",
    "plt.xlabel(r'$\\xi_A \\ [\\mu m]$')\n",
    "plt.ylabel(r'$Intensity \\ I(\\xi_A)$')\n",
    "plt.title(r'$ SINE $')\n",
    "plt.axis([-0.5*wide, 0.5*wide, -0.2*so, 2*so])\n",
    "plt.grid(True)\n",
    "plt.show()"
   ]
  },
  {
   "cell_type": "markdown",
   "metadata": {},
   "source": [
    "###     1.6. Ronchi slide distribution"
   ]
  },
  {
   "cell_type": "code",
   "execution_count": null,
   "metadata": {
    "collapsed": false
   },
   "outputs": [],
   "source": [
    "# RONCHI SLIDE PINHOLE GRAPHICS\n",
    "so = 100            # Maximum intensity.\n",
    "wide = 200          # Slide wide.\n",
    "w = 4               # Spatial frequency.\n",
    "xia = np.linspace(-0.5*wide, 0.5*wide, 500)\n",
    "ronchi_slide = lambda x: Intensity.ronchi_slide(x, so, wide, w)\n",
    "\n",
    "plt.plot(xia, ronchi_slide(xia))\n",
    "plt.xlabel(r'$\\xi_A \\ [\\mu m]$')\n",
    "plt.ylabel(r'$Intensity \\ I(\\xi_A)$')\n",
    "plt.title(r'$ RONCHI \\ SLIDE $')\n",
    "plt.axis([-0.5*wide, 0.5*wide, -0.2*so, 1.3*so])\n",
    "plt.grid(True)\n",
    "plt.show()"
   ]
  },
  {
   "cell_type": "markdown",
   "metadata": {},
   "source": [
    "###     1.7. DC Component distribution"
   ]
  },
  {
   "cell_type": "code",
   "execution_count": null,
   "metadata": {
    "collapsed": false
   },
   "outputs": [],
   "source": [
    "# STRAIGHT LINE GRAPHICS\n",
    "so_1 = 50          # Maximum intensity left slide.\n",
    "so_2 = 200          # Maximum intensity right slide.\n",
    "wide = 200          # Slide wide.\n",
    "xia = np.linspace(-wide, wide, 500)\n",
    "straight_line = lambda x: Intensity.straight_line(x, so_1, so_2, wide)\n",
    "\n",
    "plt.plot(xia, straight_line(xia))\n",
    "plt.xlabel(r'$\\xi_A \\ [\\mu m]$')\n",
    "plt.ylabel(r'$Intensity \\ I(\\xi_A)$')\n",
    "plt.title(r'$ STRAIGHT \\ LINE $')\n",
    "plt.axis([-wide, wide, -0.25*so, 2*so_2])\n",
    "plt.grid(True)\n",
    "plt.show()"
   ]
  },
  {
   "cell_type": "markdown",
   "metadata": {},
   "source": [
    "## 2. spatial coherence degree Distributions\n",
    "\n",
    "CoherenceDegree.py is a class which methods will be used as functi\n",
    "ons to represent different degrees of spatial coherence distributi\n",
    "ons at the entrance plane.\n",
    "\n",
    "### METHODS:   \n",
    "    gauss_coherence     : Gaussian spacial coherence degree \n",
    "    lorentz_coherence   : Lorentzian spacial coherence degree \n",
    " \n",
    " \n",
    "The whole range of coherence degree distributions considered here, will be exposed in the following section. The python implementation can be apreciated for each case."
   ]
  },
  {
   "cell_type": "markdown",
   "metadata": {},
   "source": [
    "###         2.1. Gaussian distribution"
   ]
  },
  {
   "cell_type": "code",
   "execution_count": null,
   "metadata": {
    "collapsed": false
   },
   "outputs": [],
   "source": [
    "# GAUSSIAN GRAPHICS\n",
    "sigma = 100     # Gaussian standard deviation.\n",
    "wide = 400          # Slide wide.\n",
    "xia = np.linspace(-wide, wide, 100)\n",
    "gauss_coherence = lambda x: CoherenceDegree.gauss_coherence(x, sigma)\n",
    "\n",
    "plt.plot(xia, gauss_coherence(xia))\n",
    "plt.xlabel(r'$\\xi_A \\ [\\mu m]$')\n",
    "plt.ylabel(r'$Intensity \\ I(\\xi_A)$')\n",
    "plt.title(r'$ GAUSSIAN $')\n",
    "plt.axis([-wide, wide, -0.2, 1.3])\n",
    "plt.grid(True)\n",
    "plt.show()"
   ]
  },
  {
   "cell_type": "markdown",
   "metadata": {},
   "source": [
    "###     2.2. Lorentzian distribution"
   ]
  },
  {
   "cell_type": "code",
   "execution_count": null,
   "metadata": {
    "collapsed": false
   },
   "outputs": [],
   "source": [
    "# LORENTZIAN GRAPHICS\n",
    "gamma = 100     # Lorentzian standard deviation.\n",
    "wide = 400          # Slide wide.\n",
    "xia = np.linspace(-wide, wide, 100)\n",
    "lorentz_coherence = lambda x: CoherenceDegree.lorentz_coherence(x, gamma)\n",
    "\n",
    "plt.plot(xia, gauss_coherence(xia))\n",
    "plt.xlabel(r'$\\xi_A \\ [\\mu m]$')\n",
    "plt.ylabel(r'$Intensity \\ I(\\xi_A)$')\n",
    "plt.title(r'$ LORENTZIAN $')\n",
    "plt.axis([-wide, wide, -0.2, 1.3])\n",
    "plt.grid(True)\n",
    "plt.show()"
   ]
  },
  {
   "cell_type": "markdown",
   "metadata": {},
   "source": [
    "## 3. Marginal Power Spectrum"
   ]
  },
  {
   "cell_type": "markdown",
   "metadata": {},
   "source": [
    "###    3.1. Setup of parameter"
   ]
  },
  {
   "cell_type": "code",
   "execution_count": null,
   "metadata": {
    "collapsed": false
   },
   "outputs": [],
   "source": [
    "# PARAMETERS\n",
    "so = 1            # Maximum intensity.\n",
    "wide = 10          # Slide wide.\n",
    "sources = 50  # Point sources amount.\n",
    "pixel_number = 512  # sampling pixel amount in xa 512\n",
    "wavelength = 0.632  # Optical field wavelength.\n",
    "z = 5  # Aperture plane - Exit plane distance.\n",
    "aperture_size = wide  # Aperture size\n",
    "exit_size = 1.5*wide  # Exit size\n",
    "\n",
    "# INTENSITY \n",
    "slide = lambda x: Intensity.slide(x, so, wide)\n",
    "\n",
    "# SPACIAL COHERENCE DEGREE \n",
    "sigma = 100  # Gaussian standard deviation\n",
    "gamma = 100\n",
    "gauss_coherence = lambda x: CoherenceDegree.gauss_coherence(x, sigma)\n",
    "lorentz_coherence = lambda x: CoherenceDegree.lorentz_coherence(x, gamma)\n",
    "\n",
    "# COORDINATES\n",
    "xia = 0.5 * np.linspace(-aperture_size, aperture_size, 2 * sources - 1)  # Entrance coordinate XiA.\n",
    "xa = 0.5 * np.linspace(-exit_size, exit_size, pixel_number)  # Exit coordinate XA.\n",
    "\n",
    "# COORDINATE MATRICES OF THE ENTRANCE XiA AND EXIT XA WINDOW\n",
    "xia_matrix, xa_matrix = np.meshgrid(xia, xa)\n",
    "\n",
    "# BASE MATRIX\n",
    "n = np.size(xa)  # number of pixels at the exit window XA\n",
    "m = 2 * sources - 1  # number of pixels at the entrance window XiA\n",
    "grid, malla = np.meshgrid(np.arange(1, m + 1), np.arange(1, n + 1))\n",
    "\n",
    "# WAVELENGTH, DISCRETIZATION OF SLIDE\n",
    "k = (2 * np.pi) / wavelength\n",
    "pixel_size = aperture_size / (2 * sources - 2)\n",
    "\n",
    "intensity = slide\n",
    "coherence_degree = gauss_coherence "
   ]
  },
  {
   "cell_type": "markdown",
   "metadata": {},
   "source": [
    "###    3.2. Paraxial Marginal Power Spectrum"
   ]
  },
  {
   "cell_type": "code",
   "execution_count": null,
   "metadata": {
    "collapsed": false
   },
   "outputs": [],
   "source": [
    "# COMPUTE REAL LAYER PARAXIAL\n",
    "real_layer = intensity(xia_matrix) * np.mod(grid, 2)"
   ]
  },
  {
   "cell_type": "code",
   "execution_count": null,
   "metadata": {
    "collapsed": true
   },
   "outputs": [],
   "source": [
    "# COMPUTE VIRTUAL LAYER PARAXIAL\n",
    "virtual_layer = np.zeros((n, m))\n",
    "structure = np.mod(grid, 2) <= 0\n",
    "structure = 1*structure    # convert boolean array to int array\n",
    "\n",
    "if sources >= 2:\n",
    "    for family in range(2, sources):\n",
    "        structure[:, 0:family - 1] = 0  # ojo, verify differences between python and matlab, array initialization\n",
    "        structure[:, (2 * sources - 1) - (family - 2):] = 0\n",
    "        \n",
    "        xid = 2 * (family - 1) * pixel_size\n",
    "        phase = 0\n",
    "                         \n",
    "        rad_1 = np.sqrt(intensity(xia_matrix + 0.5*xid))\n",
    "        rad_2 = np.sqrt(intensity(xia_matrix - 0.5*xid))\n",
    "        cosine = np.cos((k/z) * xid * xia_matrix + (k/z) * xid * xa_matrix + phase)\n",
    "                        \n",
    "        virtual_source = 2 * coherence_degree(xid) * rad_1 * rad_2 * cosine\n",
    "        virtual_source = 2 * coherence_degree(xid) * rad_1 * rad_2 * cosine\n",
    "        \n",
    "        virtual = structure * virtual_source\n",
    "        virtual_layer = virtual_layer + virtual  # ojo, do not trust\n",
    "\n",
    "        structure = structure == 0  # invert zeros for ones.       \n",
    "        structure = 1*structure    # convert boolean array to int array\n",
    "else:\n",
    "    print('Error: np, Point sources amount must be mayor or equal 2')"
   ]
  },
  {
   "cell_type": "markdown",
   "metadata": {},
   "source": [
    "###    3.3. Nonparaxial Marginal Power Spectrum\n",
    "\n",
    "#### Real layer Analysis\n",
    "\n",
    "$$ \\textbf{S}\\left(\\boldsymbol\\xi_{A},\\boldsymbol r_{A};\\nu\\right) = \n",
    "\\frac{1}{4\\lambda^2}S_{o}\\left(\\boldsymbol\\xi_{A};\\nu\\right)\n",
    "\\left(\\frac{z+\\sqrt{z^2+|\\boldsymbol r_{A}-\\boldsymbol\\xi_{A}|^2}}\n",
    "{z^2+|\\boldsymbol r_{A}-\\boldsymbol\\xi_{A}|^2}\\right)^2$$\n",
    "\n",
    "$$|\\boldsymbol r_{A}-\\boldsymbol\\xi_{A}|^2 = \n",
    "(r_{A_{1}}-\\xi_{A_{1}})^2 + (r_{A_{2}}-\\xi_{A_{2}})^2$$"
   ]
  },
  {
   "cell_type": "code",
   "execution_count": null,
   "metadata": {
    "collapsed": false
   },
   "outputs": [],
   "source": [
    "# COMPUTE REAL LAYER NONPARAXIAL\n",
    "radicand = np.power(z, 2) + np.power((xa_matrix - xia_matrix), 2)\n",
    "lorentz_real = np.power((z + np.sqrt(radicand)) / radicand, 2)\n",
    "real_layer = intensity(xia_matrix) / (4 * np.power(wavelength, 2)) * lorentz_real * np.mod(grid, 2)\n"
   ]
  },
  {
   "cell_type": "code",
   "execution_count": null,
   "metadata": {
    "collapsed": false
   },
   "outputs": [],
   "source": [
    "# COMPUTE VIRTUAL LAYER NONPARAXIAL\n",
    "virtual_layer = np.zeros((n, m))\n",
    "structure = np.mod(grid, 2) <= 0\n",
    "structure = 1*structure    # convert boolean array to int array\n",
    "\n",
    "if sources >= 2:\n",
    "    for family in range(2, sources):\n",
    "        structure[:, 0:family - 1] = 0\n",
    "        structure[:, (2 * sources - 1) - (family - 2):] = 0\n",
    "        \n",
    "        xid = 2 * (family - 1) * pixel_size\n",
    "\n",
    "        term_1 = np.power(z, 2) + np.power(xa_matrix - xia_matrix, 2) + (np.power(xid, 2) / 4)\n",
    "        \n",
    "        radicand_1 = term_1 - (xa_matrix - xia_matrix) * xid\n",
    "        radicand_2 = term_1 + (xa_matrix - xia_matrix) * xid\n",
    "\n",
    "        lor_1 = (z + np.sqrt(radicand_1)) / radicand_1\n",
    "        lor_2 = (z + np.sqrt(radicand_2)) / radicand_2\n",
    "\n",
    "        rad_1 = np.sqrt(intensity(xia_matrix + 0.5*xid))\n",
    "        rad_2 = np.sqrt(intensity(xia_matrix - 0.5*xid))\n",
    "        #print(xa_matrix + 0.5*xid)\n",
    "\n",
    "        lorentz_virtual = (1 / (2 * np.power(wavelength, 2))) * rad_1 * rad_2 * lor_1 * lor_2\n",
    "        cosine = np.cos(k * (np.sqrt(radicand_1) - np.sqrt(radicand_2)))\n",
    "        \n",
    "        virtual_source = coherence_degree(xid) * lorentz_virtual * cosine\n",
    "        \n",
    "        virtual = structure * virtual_source\n",
    "        virtual_layer = virtual_layer + virtual  # ojo, do not trust\n",
    "\n",
    "        structure = structure == 0  # invert zeros for ones.\n",
    "        structure = 1*structure    # convert boolean array to int array\n",
    "else:\n",
    "    print('Error: np, Point sources amount must be mayor or equal 2')"
   ]
  },
  {
   "cell_type": "markdown",
   "metadata": {},
   "source": [
    "###    3.4. Graphics"
   ]
  },
  {
   "cell_type": "code",
   "execution_count": null,
   "metadata": {
    "collapsed": false
   },
   "outputs": [],
   "source": [
    "# MARGINAL POWER SPECTRUM (MPS)\n",
    "Mar_Pow_Spectrum = real_layer + virtual_layer\n",
    "\n",
    "s_xaReal = real_layer.sum(axis=1)\n",
    "s_xa = Mar_Pow_Spectrum.sum(axis=1)\n",
    "s_xia = Mar_Pow_Spectrum.sum(axis=0)\n",
    "\n",
    "#--------------------------------------------------------------\n",
    "# MARGINAL POWER SPECTRUM, RADIANT AND VIRTUAL PART\n",
    "#--------------------------------------------------------------\n",
    "plt.figure(figsize=(12,4), dpi=80) \n",
    "plt.subplot(1, 3, 1)\n",
    "plt.imshow(real_layer, cmap='magma', aspect='auto',\n",
    "           extent=[-0.5*aperture_size, 0.5*aperture_size,\n",
    "                   -0.5*exit_size, 0.5*exit_size])\n",
    "plt.title('MPS - Real Part')\n",
    "plt.xlabel(r'$ \\xi_A \\ (\\mu m)$')\n",
    "plt.ylabel(r'$ r_A \\ (\\mu m)$')\n",
    "\n",
    "plt.subplot(1, 3, 2)\n",
    "plt.imshow(virtual_layer, cmap='inferno', aspect='auto',\n",
    "           extent=[-0.5*aperture_size, 0.5*aperture_size,\n",
    "                   -0.5*exit_size, 0.5*exit_size])\n",
    "plt.title('MPS - Virtual Part')\n",
    "plt.xlabel(r'$ \\xi_A \\ (\\mu m)$')\n",
    "plt.ylabel(r'$ r_A \\ (\\mu m)$')\n",
    "\n",
    "plt.subplot(1, 3, 3)\n",
    "plt.imshow(Mar_Pow_Spectrum, cmap='jet', aspect='auto',\n",
    "           extent=[-0.5*aperture_size, 0.5*aperture_size,\n",
    "                   -0.5*exit_size, 0.5*exit_size])\n",
    "plt.title('Marginal Power Spectrum')\n",
    "plt.xlabel(r'$ \\xi_A \\ (\\mu m)$')\n",
    "plt.ylabel(r'$ r_A \\ (\\mu m)$')\n",
    "\n",
    "plt.show()\n"
   ]
  },
  {
   "cell_type": "code",
   "execution_count": null,
   "metadata": {
    "collapsed": false
   },
   "outputs": [],
   "source": [
    "#--------------------------------------------------------------\n",
    "# MARGINAL POWER SPECTRUM, ENTRANCE AND EXIT POWER SPECTRUM\n",
    "#--------------------------------------------------------------\n",
    "plt.figure(figsize=(12,4), dpi=80) \n",
    "plt.subplot(1, 3, 1)\n",
    "plt.imshow(Mar_Pow_Spectrum, cmap='gray', aspect='auto',\n",
    "           extent=[-0.5*aperture_size, 0.5*aperture_size,\n",
    "                   -0.5*exit_size, 0.5*exit_size])\n",
    "plt.title('Marginal Power Spectrum')\n",
    "plt.xlabel(r'$ \\xi_A \\ (\\mu m)$')\n",
    "plt.ylabel(r'$ r_A \\ (\\mu m)$')\n",
    "\n",
    "plt.subplot(1, 3, 2)\n",
    "plt.fill(xia, s_xia, 'c', alpha=0.9)\n",
    "plt.title('Entrance Power Spectrum')\n",
    "plt.xlabel(r'$ \\xi_A \\ (\\mu m)$')\n",
    "plt.ylabel(r'$ S(\\xi_A) $')\n",
    "\n",
    "plt.subplot(1, 3, 3)\n",
    "plt.fill(xa, s_xa, 'r', alpha=0.7)\n",
    "plt.title('Exit Power Spectrum')\n",
    "plt.xlabel(r'$ r_A \\ (\\mu m) $')\n",
    "plt.ylabel(r'$ S(r_A) $')\n",
    "\n",
    "plt.show()"
   ]
  },
  {
   "cell_type": "markdown",
   "metadata": {
    "collapsed": true
   },
   "source": [
    "##    4. 2D Modelling of Marginal Power Spectrum (UNFINISHED WORK)\n"
   ]
  },
  {
   "cell_type": "markdown",
   "metadata": {},
   "source": [
    "### 4.1. 3D - Structure"
   ]
  },
  {
   "cell_type": "code",
   "execution_count": null,
   "metadata": {
    "collapsed": false
   },
   "outputs": [],
   "source": [
    "# PARAMETERS\n",
    "sources = 2  # Point sources amount.\n",
    "\n",
    "# BASE MATRIX\n",
    "n = 2 * sources - 1  # number of pixels at the entrance window XiA\n",
    "grid, malla = np.meshgrid(np.arange(1, n + 1), np.arange(1, n + 1))\n",
    "\n",
    "Structure = np.mod(grid, 2) * np.transpose(np.mod(grid, 2))\n",
    "\n",
    "print Structure"
   ]
  },
  {
   "cell_type": "code",
   "execution_count": null,
   "metadata": {
    "collapsed": false
   },
   "outputs": [],
   "source": [
    "import numpy as np\n",
    "\n",
    "# PARAMETERS\n",
    "sources = 2  # Point sources amount.\n",
    "pixel_number = 3  # sampling pixel amount in xa\n",
    "aperture_size = 4  # Aperture size\n",
    "exit_size = 10  # Exit size\n",
    "\n",
    "# COORDINATES\n",
    "xia1 = 0.5 * np.linspace(-aperture_size, aperture_size, 2 * sources - 1)  # Entrance coordinate XiA.\n",
    "xia2 = 0.5 * np.linspace(-aperture_size, aperture_size, 2 * sources - 1)  # Entrance coordinate XiA.\n",
    "xa = 0.5 * np.linspace(-exit_size, exit_size, pixel_number)  # Exit coordinate XA.\n",
    "\n",
    "# COORDINATE MATRICES OF THE ENTRANCE XiA AND EXIT XA WINDOW\n",
    "xia1_matrix, xa_matrix , xia2_matrix = np.meshgrid(xia1, xa, xia2)\n",
    "xia_matrix = np.sqrt(np.power(xia1_matrix,2) + np.power(xia2_matrix,2))  # Lo logré!\n",
    "#print xia_matrix\n",
    "\n",
    "\n",
    "\n",
    "# BASE MATRIX\n",
    "#n = np.size(xa)  # number of pixels at the exit window XA\n",
    "m = 2 * sources - 1  # number of pixels at the entrance window XiA\n",
    "n = m\n",
    "grid1, grid2, grid3 = np.meshgrid(np.arange(1, m + 1), np.arange(1, n + 3), np.arange(1, m + 1))\n",
    "Structure = np.mod(grid1, 2) * np.mod(grid3, 2)  # Lo logré!\n",
    "#print Structure\n",
    "\n"
   ]
  },
  {
   "cell_type": "markdown",
   "metadata": {},
   "source": [
    "### "
   ]
  },
  {
   "cell_type": "markdown",
   "metadata": {},
   "source": []
  }
 ],
 "metadata": {
  "kernelspec": {
   "display_name": "Python 3",
   "language": "python",
   "name": "python3"
  },
  "language_info": {
   "codemirror_mode": {
    "name": "ipython",
    "version": 3
   },
   "file_extension": ".py",
   "mimetype": "text/x-python",
   "name": "python",
   "nbconvert_exporter": "python",
   "pygments_lexer": "ipython3",
   "version": "3.5.2"
  }
 },
 "nbformat": 4,
 "nbformat_minor": 0
}
